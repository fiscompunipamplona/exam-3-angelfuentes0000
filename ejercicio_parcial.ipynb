{
 "cells": [
  {
   "cell_type": "markdown",
   "metadata": {},
   "source": [
    "se debe realizar un porgraa usando la ecuaion de modelado de calor, para lla superficie de la tierra para aproximada mente 20 metros de profundidad donde la temperatura suele estabilizar en 11 grados centigrados.\n",
    "debemos tener en cuenta una ecuacion de condicion de frontera que modela la temperatura en la superficie y debemos hacer el calculo para 10 años pero los primero 9 años sirven para estabilizar el sistema modelado, despues de esto se graficara cada 3 meses la temperatura."
   ]
  },
  {
   "cell_type": "code",
   "execution_count": 1,
   "metadata": {},
   "outputs": [],
   "source": [
    "from numpy import empty\n",
    "from pylab import plot, xlabel,ylabel,show\n",
    "from math import *\n",
    "from timeit import timeit"
   ]
  },
  {
   "cell_type": "code",
   "execution_count": 2,
   "metadata": {},
   "outputs": [],
   "source": [
    "thao=365     # dias \n",
    "A=10         # grados centigrados \n",
    "B= 12        # grados centigrados \n",
    "L=20         #profundidad debajo de la superficie\n",
    "D= 0.1       # m^2/dia difucividad termica \n",
    "N=100        # numero de divisiones de la cuadricula\n",
    "a=L/N        # espaciamineto entre las cuadriculas \n",
    "h= 0.01         # tiempo  de espera en dias \n",
    "epsilon=h/100 #condicion  en particular uno eligue el numero"
   ]
  },
  {
   "cell_type": "code",
   "execution_count": 3,
   "metadata": {},
   "outputs": [],
   "source": [
    "Tmi=10 # temperatura media\n",
    "Thi= 11 # temperatura alta "
   ]
  },
  {
   "cell_type": "code",
   "execution_count": 4,
   "metadata": {},
   "outputs": [],
   "source": [
    "\n",
    "# crear arreglos\n",
    "T = empty(N+1,float)  # crea arreglo vacio\n",
    "            # asigna la temperatura párte alta \n",
    "T[N]=Thi  # asigna la temperatuira parte baja \n",
    "T[1:N]=Tmi   # asigna la temperatura de medio \n",
    "Tp=empty(N+1,float) \n",
    "Tp[0]=Thi\n",
    "Tp[N]=Tmi   "
   ]
  },
  {
   "cell_type": "code",
   "execution_count": 8,
   "metadata": {},
   "outputs": [
    {
     "ename": "SyntaxError",
     "evalue": "invalid syntax (<ipython-input-8-149254f7620b>, line 2)",
     "output_type": "error",
     "traceback": [
      "\u001b[0;36m  File \u001b[0;32m\"<ipython-input-8-149254f7620b>\"\u001b[0;36m, line \u001b[0;32m2\u001b[0m\n\u001b[0;31m    return A+ 8B*sin(2*pi*t/thao))\u001b[0m\n\u001b[0m               ^\u001b[0m\n\u001b[0;31mSyntaxError\u001b[0m\u001b[0;31m:\u001b[0m invalid syntax\n"
     ]
    }
   ],
   "source": [
    "def Tin (t):\n",
    "    return A+ 8B*sin(2*pi*t/thao))\n"
   ]
  },
  {
   "cell_type": "code",
   "execution_count": 9,
   "metadata": {},
   "outputs": [],
   "source": [
    "t1=365*9\n",
    "t2=t1+90\n",
    "t3=t2+90\n",
    "t4=t3+90\n",
    "tend = t4+epsilon"
   ]
  },
  {
   "cell_type": "code",
   "execution_count": 7,
   "metadata": {},
   "outputs": [
    {
     "data": {
      "image/png": "[encoded data removed]",
      "text/plain": [
       "<matplotlib.figure.Figure at 0x7f5fe7e54550>"
      ]
     },
     "metadata": {
      "needs_background": "light"
     },
     "output_type": "display_data"
    },
    {
     "name": "stdout",
     "output_type": "stream",
     "text": [
      "0.051003140000034364\n"
     ]
    }
   ],
   "source": [
    "# main loop\n",
    "t=0.0\n",
    "c=h*D/(a*a) # acople espacio- temporal\n",
    "\n",
    "while t<tend:\n",
    "    T[0]=Tin(t)\n",
    "    T[N]= 11\n",
    "    #calcular los nuevos valores de T\n",
    "    Tp[1:N]=T[1:N]+ c*(T[0:N-1]+T[2:N+1]-2*T[1:N])\n",
    "    T,Tp=Tp,T\n",
    "    t +=h\n",
    "        \n",
    "    #contruye las graficas para cada tiempo\n",
    "    if abs(t-t1)<epsilon:\n",
    "        plot(T)\n",
    "    if abs(t-t2)<epsilon:\n",
    "        plot(T)\n",
    "    if abs(t-t3)<epsilon:\n",
    "        plot(T)\n",
    "    if abs(t-t4)<epsilon:\n",
    "        plot(T)\n",
    "xlabel(\"x\")\n",
    "ylabel(\"T\")\n",
    "show()\n",
    "print(timeit())"
   ]
  },
  {
   "cell_type": "markdown",
   "metadata": {},
   "source": [
    "tengamos en cuanta que la posicion x reprecenta la profundidad de la muestra y que son 20 metros de profundidad."
   ]
  },
  {
   "cell_type": "code",
   "execution_count": null,
   "metadata": {},
   "outputs": [],
   "source": []
  }
 ],
 "metadata": {
  "kernelspec": {
   "display_name": "Python 3",
   "language": "python",
   "name": "python3"
  },
  "language_info": {
   "codemirror_mode": {
    "name": "ipython",
    "version": 3
   },
   "file_extension": ".py",
   "mimetype": "text/x-python",
   "name": "python",
   "nbconvert_exporter": "python",
   "pygments_lexer": "ipython3",
   "version": "3.6.9"
  }
 },
 "nbformat": 4,
 "nbformat_minor": 2
}
